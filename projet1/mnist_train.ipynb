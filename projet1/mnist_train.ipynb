{
 "cells": [
  {
   "cell_type": "code",
   "execution_count": 1,
   "id": "abffbe16",
   "metadata": {},
   "outputs": [
    {
     "name": "stdout",
     "output_type": "stream",
     "text": [
      "Using device: cpu\n"
     ]
    }
   ],
   "source": [
    "import torch\n",
    "import torch.nn as nn\n",
    "import torch.optim as optim\n",
    "from torchvision import datasets, transforms\n",
    "import pandas as pd\n",
    "\n",
    "device = torch.device(\"cuda\" if torch.cuda.is_available() else \"cpu\")\n",
    "print(f\"Using device: {device}\")\n"
   ]
  },
  {
   "cell_type": "code",
   "execution_count": 2,
   "id": "fbb32e64",
   "metadata": {},
   "outputs": [
    {
     "name": "stderr",
     "output_type": "stream",
     "text": [
      "100%|██████████| 9.91M/9.91M [00:01<00:00, 6.34MB/s]\n",
      "100%|██████████| 28.9k/28.9k [00:00<00:00, 350kB/s]\n",
      "100%|██████████| 1.65M/1.65M [00:00<00:00, 2.75MB/s]\n",
      "100%|██████████| 4.54k/4.54k [00:00<00:00, 4.72MB/s]\n"
     ]
    }
   ],
   "source": [
    "transform = transforms.Compose([\n",
    "    transforms.ToTensor(),\n",
    "    transforms.Normalize((0.1307,), (0.3081,))\n",
    "])\n",
    "\n",
    "train_loader = torch.utils.data.DataLoader(\n",
    "    datasets.MNIST(root='./data', train=True, download=True, transform=transform),\n",
    "    batch_size=64, shuffle=True\n",
    ")\n",
    "\n",
    "test_loader = torch.utils.data.DataLoader(\n",
    "    datasets.MNIST(root='./data', train=False, transform=transform),\n",
    "    batch_size=64, shuffle=False\n",
    ")\n"
   ]
  },
  {
   "cell_type": "code",
   "execution_count": 3,
   "id": "3f5189b6",
   "metadata": {},
   "outputs": [],
   "source": [
    "# class Net(nn.Module):\n",
    "#     def __init__(self):\n",
    "#         super(Net, self).__init__()\n",
    "#         self.fc = nn.Sequential(\n",
    "#             nn.Flatten(),\n",
    "#             nn.Linear(28*28, 128),\n",
    "#             nn.ReLU(),\n",
    "#             nn.Linear(128, 64),\n",
    "#             nn.ReLU(),\n",
    "#             nn.Linear(64, 10)\n",
    "#         )\n",
    "\n",
    "#     def forward(self, x):\n",
    "#         return self.fc(x)\n",
    "\n",
    "# model = Net().to(device)\n",
    "\n",
    "class CNN(nn.Module):\n",
    "    def __init__(self):\n",
    "        super(CNN, self).__init__()\n",
    "        self.conv_layer = nn.Sequential(\n",
    "            nn.Conv2d(1, 32, kernel_size=3, padding=1),  # (batch, 1, 28, 28) -> (batch, 32, 28, 28)\n",
    "            nn.ReLU(),\n",
    "            nn.MaxPool2d(2),  # -> (batch, 32, 14, 14)\n",
    "\n",
    "            nn.Conv2d(32, 64, kernel_size=3, padding=1),  # -> (batch, 64, 14, 14)\n",
    "            nn.ReLU(),\n",
    "            nn.MaxPool2d(2)   # -> (batch, 64, 7, 7)\n",
    "        )\n",
    "\n",
    "        self.fc = nn.Sequential(\n",
    "            nn.Flatten(),\n",
    "            nn.Linear(64 * 7 * 7, 128),\n",
    "            nn.ReLU(),\n",
    "            nn.Linear(128, 10)\n",
    "        )\n",
    "\n",
    "    def forward(self, x):\n",
    "        x = self.conv_layer(x)\n",
    "        x = self.fc(x)\n",
    "        return x\n",
    "\n",
    "model = CNN().to(device)\n",
    "\n"
   ]
  },
  {
   "cell_type": "code",
   "execution_count": 5,
   "id": "d10c046b",
   "metadata": {},
   "outputs": [
    {
     "name": "stdout",
     "output_type": "stream",
     "text": [
      "Epoch 1: Loss = 0.0309 | Accuracy = 98.97%\n",
      "Epoch 2: Loss = 0.0192 | Accuracy = 99.38%\n",
      "Epoch 3: Loss = 0.0155 | Accuracy = 99.45%\n",
      "Epoch 4: Loss = 0.0105 | Accuracy = 99.64%\n",
      "Epoch 5: Loss = 0.0093 | Accuracy = 99.69%\n"
     ]
    }
   ],
   "source": [
    "optimizer = optim.Adam(model.parameters(), lr=0.001)\n",
    "criterion = nn.CrossEntropyLoss()\n",
    "losses = []\n",
    "\n",
    "for epoch in range(5):\n",
    "    model.train()\n",
    "    epoch_loss = 0\n",
    "    correct = 0\n",
    "    total = 0\n",
    "\n",
    "    for data, target in train_loader:\n",
    "        data, target = data.to(device), target.to(device)\n",
    "        optimizer.zero_grad()\n",
    "        output = model(data)\n",
    "        loss = criterion(output, target)\n",
    "        loss.backward()\n",
    "        optimizer.step()\n",
    "        epoch_loss += loss.item()\n",
    "\n",
    "        # Accuracy batch\n",
    "        preds = output.argmax(dim=1)\n",
    "        correct += (preds == target).sum().item()\n",
    "        total += target.size(0)\n",
    "\n",
    "    avg_loss = epoch_loss / len(train_loader)\n",
    "    accuracy = 100. * correct / total\n",
    "    losses.append({'epoch': epoch+1, 'loss': avg_loss, 'accuracy': accuracy})\n",
    "    print(f\"Epoch {epoch+1}: Loss = {avg_loss:.4f} | Accuracy = {accuracy:.2f}%\")\n"
   ]
  },
  {
   "cell_type": "code",
   "execution_count": 6,
   "id": "a4486801",
   "metadata": {},
   "outputs": [
    {
     "data": {
      "text/html": [
       "<div>\n",
       "<style scoped>\n",
       "    .dataframe tbody tr th:only-of-type {\n",
       "        vertical-align: middle;\n",
       "    }\n",
       "\n",
       "    .dataframe tbody tr th {\n",
       "        vertical-align: top;\n",
       "    }\n",
       "\n",
       "    .dataframe thead th {\n",
       "        text-align: right;\n",
       "    }\n",
       "</style>\n",
       "<table border=\"1\" class=\"dataframe\">\n",
       "  <thead>\n",
       "    <tr style=\"text-align: right;\">\n",
       "      <th></th>\n",
       "      <th>epoch</th>\n",
       "      <th>loss</th>\n",
       "      <th>accuracy</th>\n",
       "    </tr>\n",
       "  </thead>\n",
       "  <tbody>\n",
       "    <tr>\n",
       "      <th>0</th>\n",
       "      <td>1</td>\n",
       "      <td>0.030930</td>\n",
       "      <td>98.971667</td>\n",
       "    </tr>\n",
       "    <tr>\n",
       "      <th>1</th>\n",
       "      <td>2</td>\n",
       "      <td>0.019244</td>\n",
       "      <td>99.378333</td>\n",
       "    </tr>\n",
       "    <tr>\n",
       "      <th>2</th>\n",
       "      <td>3</td>\n",
       "      <td>0.015504</td>\n",
       "      <td>99.448333</td>\n",
       "    </tr>\n",
       "    <tr>\n",
       "      <th>3</th>\n",
       "      <td>4</td>\n",
       "      <td>0.010528</td>\n",
       "      <td>99.645000</td>\n",
       "    </tr>\n",
       "    <tr>\n",
       "      <th>4</th>\n",
       "      <td>5</td>\n",
       "      <td>0.009289</td>\n",
       "      <td>99.691667</td>\n",
       "    </tr>\n",
       "  </tbody>\n",
       "</table>\n",
       "</div>"
      ],
      "text/plain": [
       "   epoch      loss   accuracy\n",
       "0      1  0.030930  98.971667\n",
       "1      2  0.019244  99.378333\n",
       "2      3  0.015504  99.448333\n",
       "3      4  0.010528  99.645000\n",
       "4      5  0.009289  99.691667"
      ]
     },
     "execution_count": 6,
     "metadata": {},
     "output_type": "execute_result"
    }
   ],
   "source": [
    "df = pd.DataFrame(losses)\n",
    "df.to_csv(\"training_losses.csv\", index=False)\n",
    "df\n"
   ]
  },
  {
   "cell_type": "code",
   "execution_count": 9,
   "id": "b3703278",
   "metadata": {},
   "outputs": [
    {
     "name": "stdout",
     "output_type": "stream",
     "text": [
      "Modèle exporté en mnist_model.onnx ✅\n"
     ]
    }
   ],
   "source": [
    "import torch.onnx\n",
    "\n",
    "dummy_input = torch.randn(1, 1, 28, 28).to(device)\n",
    "torch.onnx.export(model, dummy_input, \"mnist_model.onnx\",\n",
    "                  input_names=[\"input\"], output_names=[\"output\"],\n",
    "                  dynamic_axes={\"input\": {0: \"batch_size\"}, \"output\": {0: \"batch_size\"}})\n",
    "\n",
    "print(\"Modèle exporté en mnist_model.onnx ✅\")\n"
   ]
  },
  {
   "cell_type": "code",
   "execution_count": 10,
   "id": "24c080af",
   "metadata": {},
   "outputs": [
    {
     "name": "stdout",
     "output_type": "stream",
     "text": [
      "['input']\n"
     ]
    }
   ],
   "source": [
    "import onnx\n",
    "\n",
    "model = onnx.load(\"mnist_model.onnx\")\n",
    "print([input.name for input in model.graph.input])\n"
   ]
  },
  {
   "cell_type": "code",
   "execution_count": 12,
   "id": "54265aef",
   "metadata": {},
   "outputs": [
    {
     "name": "stdout",
     "output_type": "stream",
     "text": [
      "Logits: [[  1.4271472   1.4908273  19.079624  -11.489559   -6.413771  -22.664413\n",
      "   -1.2811205 -10.712002   -4.3989377 -12.344233 ]]\n",
      "Prédiction du modèle : 2\n",
      "Label réel : 2\n"
     ]
    }
   ],
   "source": [
    "import onnxruntime as ort\n",
    "import numpy as np\n",
    "from torchvision import datasets, transforms\n",
    "\n",
    "# Charger le modèle ONNX\n",
    "session = ort.InferenceSession(\"mnist_model.onnx\")\n",
    "\n",
    "# Préparation de la transformation identique à celle du training\n",
    "transform = transforms.Compose([\n",
    "    transforms.ToTensor(),\n",
    "    transforms.Normalize((0.1307,), (0.3081,))  # Ajuste selon ton training !\n",
    "])\n",
    "\n",
    "# Charger jeu de test MNIST (download si besoin)\n",
    "test_dataset = datasets.MNIST(root='.', train=False, download=True, transform=transform)\n",
    "\n",
    "# Prendre une image test avec son label (exemple: index 1)\n",
    "img, label = test_dataset[1]\n",
    "\n",
    "# Préparer l'entrée pour le modèle ONNX\n",
    "input_name = session.get_inputs()[0].name\n",
    "\n",
    "# MNIST : batch_size=1, canaux=1, hauteur=28, largeur=28\n",
    "input_data = img.numpy().reshape(1, 1, 28, 28).astype(np.float32)\n",
    "\n",
    "# Inférence\n",
    "outputs = session.run(None, {input_name: input_data})\n",
    "\n",
    "# Résultat brut (logits)\n",
    "logits = outputs[0]\n",
    "\n",
    "# Affichage des logits et prédiction finale\n",
    "print(\"Logits:\", logits)\n",
    "predicted_label = np.argmax(logits)\n",
    "print(f\"Prédiction du modèle : {predicted_label}\")\n",
    "print(f\"Label réel : {label}\")\n"
   ]
  },
  {
   "cell_type": "code",
   "execution_count": 14,
   "id": "b8108bfb",
   "metadata": {},
   "outputs": [
    {
     "name": "stdout",
     "output_type": "stream",
     "text": [
      "Accuracy ONNX sur test_loader : 99.15%\n"
     ]
    }
   ],
   "source": [
    "#TEST COMPLET\n",
    "import onnxruntime as ort\n",
    "import numpy as np\n",
    "\n",
    "# Charger le modèle ONNX\n",
    "session = ort.InferenceSession(\"mnist_model.onnx\")\n",
    "\n",
    "# Fonction d'inférence\n",
    "def evaluate_onnx(session, test_loader):\n",
    "    input_name = session.get_inputs()[0].name\n",
    "    correct = 0\n",
    "    total = 0\n",
    "\n",
    "    for data, target in test_loader:\n",
    "        input_data = data.numpy().astype(np.float32)\n",
    "        outputs = session.run(None, {input_name: input_data})\n",
    "        preds = np.argmax(outputs[0], axis=1)\n",
    "        correct += (preds == target.numpy()).sum()\n",
    "        total += target.size(0)\n",
    "\n",
    "    accuracy = 100. * correct / total\n",
    "    print(f\"Accuracy ONNX sur test_loader : {accuracy:.2f}%\")\n",
    "\n",
    "evaluate_onnx(session, test_loader)\n"
   ]
  }
 ],
 "metadata": {
  "kernelspec": {
   "display_name": "Python (projet2_venv)",
   "language": "python",
   "name": "projet2_venv"
  },
  "language_info": {
   "codemirror_mode": {
    "name": "ipython",
    "version": 3
   },
   "file_extension": ".py",
   "mimetype": "text/x-python",
   "name": "python",
   "nbconvert_exporter": "python",
   "pygments_lexer": "ipython3",
   "version": "3.12.6"
  }
 },
 "nbformat": 4,
 "nbformat_minor": 5
}
